{
 "cells": [
  {
   "cell_type": "markdown",
   "id": "16a2b01b",
   "metadata": {},
   "source": [
    "## OOPs in Python"
   ]
  },
  {
   "cell_type": "code",
   "execution_count": 7,
   "id": "a4af17cc",
   "metadata": {},
   "outputs": [],
   "source": [
    "# class with no object\n",
    "class car:\n",
    "    pass"
   ]
  },
  {
   "cell_type": "markdown",
   "id": "f80f0e1e",
   "metadata": {},
   "source": [
    "## Bad Approach to initialize objects"
   ]
  },
  {
   "cell_type": "code",
   "execution_count": 8,
   "id": "86cc7020",
   "metadata": {},
   "outputs": [],
   "source": [
    "car1=car()"
   ]
  },
  {
   "cell_type": "code",
   "execution_count": 9,
   "id": "1ed87621",
   "metadata": {},
   "outputs": [
    {
     "data": {
      "text/plain": [
       "<__main__.car at 0x23f96686f10>"
      ]
     },
     "execution_count": 9,
     "metadata": {},
     "output_type": "execute_result"
    }
   ],
   "source": [
    "car1"
   ]
  },
  {
   "cell_type": "code",
   "execution_count": 10,
   "id": "a06f9814",
   "metadata": {},
   "outputs": [],
   "source": [
    "car1.color=\"Red\"\n",
    "car1.door=4"
   ]
  },
  {
   "cell_type": "code",
   "execution_count": 12,
   "id": "a8b05c8c",
   "metadata": {},
   "outputs": [
    {
     "name": "stdout",
     "output_type": "stream",
     "text": [
      "4\n"
     ]
    }
   ],
   "source": [
    "print(car1.door)"
   ]
  },
  {
   "cell_type": "code",
   "execution_count": 14,
   "id": "eca776ce",
   "metadata": {},
   "outputs": [],
   "source": [
    "car2=car()"
   ]
  },
  {
   "cell_type": "code",
   "execution_count": 15,
   "id": "6ad58e70",
   "metadata": {},
   "outputs": [],
   "source": [
    "car2.window=3\n",
    "car2.doors=2"
   ]
  },
  {
   "cell_type": "code",
   "execution_count": 16,
   "id": "dd8b2375",
   "metadata": {},
   "outputs": [
    {
     "name": "stdout",
     "output_type": "stream",
     "text": [
      "3\n"
     ]
    }
   ],
   "source": [
    "print(car2.window)"
   ]
  },
  {
   "cell_type": "code",
   "execution_count": 17,
   "id": "9cafd98b",
   "metadata": {},
   "outputs": [],
   "source": [
    "car2.engine='Petrol'"
   ]
  },
  {
   "cell_type": "code",
   "execution_count": 18,
   "id": "ef0ec879",
   "metadata": {},
   "outputs": [
    {
     "name": "stdout",
     "output_type": "stream",
     "text": [
      "Petrol\n"
     ]
    }
   ],
   "source": [
    "print(car2.engine)"
   ]
  },
  {
   "cell_type": "markdown",
   "id": "597654c2",
   "metadata": {},
   "source": [
    "## Efficeint Way to create a  object of a class "
   ]
  },
  {
   "cell_type": "code",
   "execution_count": 35,
   "id": "f57d59e8",
   "metadata": {},
   "outputs": [],
   "source": [
    " class car:\n",
    "    def __init__(self,window,door,color):\n",
    "        self.window=window\n",
    "        self.door=door\n",
    "        self.color=color\n",
    "    def self_driving(self):\n",
    "        return \"This is a {} car\".format(self.color)"
   ]
  },
  {
   "cell_type": "code",
   "execution_count": 36,
   "id": "a1d4538a",
   "metadata": {},
   "outputs": [],
   "source": [
    "# Self takes the referance of the object car1\n",
    "car1=car(3,4,'red')"
   ]
  },
  {
   "cell_type": "code",
   "execution_count": 37,
   "id": "2e73de40",
   "metadata": {},
   "outputs": [],
   "source": [
    "car2=car(2,3,'black')"
   ]
  },
  {
   "cell_type": "code",
   "execution_count": 38,
   "id": "21a9d28f",
   "metadata": {},
   "outputs": [
    {
     "name": "stdout",
     "output_type": "stream",
     "text": [
      "3\n"
     ]
    }
   ],
   "source": [
    "print(car1.window)"
   ]
  },
  {
   "cell_type": "code",
   "execution_count": 39,
   "id": "b5d47349",
   "metadata": {},
   "outputs": [
    {
     "name": "stdout",
     "output_type": "stream",
     "text": [
      "black\n"
     ]
    }
   ],
   "source": [
    "print(car2.color)"
   ]
  },
  {
   "cell_type": "code",
   "execution_count": 40,
   "id": "35b3c6a1",
   "metadata": {},
   "outputs": [
    {
     "data": {
      "text/plain": [
       "'This is a red car'"
      ]
     },
     "execution_count": 40,
     "metadata": {},
     "output_type": "execute_result"
    }
   ],
   "source": [
    "car1.self_driving()"
   ]
  },
  {
   "cell_type": "code",
   "execution_count": null,
   "id": "4f0f96a0",
   "metadata": {},
   "outputs": [],
   "source": []
  }
 ],
 "metadata": {
  "kernelspec": {
   "display_name": "Python 3 (ipykernel)",
   "language": "python",
   "name": "python3"
  },
  "language_info": {
   "codemirror_mode": {
    "name": "ipython",
    "version": 3
   },
   "file_extension": ".py",
   "mimetype": "text/x-python",
   "name": "python",
   "nbconvert_exporter": "python",
   "pygments_lexer": "ipython3",
   "version": "3.9.12"
  }
 },
 "nbformat": 4,
 "nbformat_minor": 5
}
